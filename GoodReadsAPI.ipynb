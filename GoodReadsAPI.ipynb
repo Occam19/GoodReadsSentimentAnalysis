{
 "cells": [
  {
   "cell_type": "markdown",
   "metadata": {},
   "source": [
    "# Creating a Fantasy Book Recommender Using Goodreads & Amazon"
   ]
  },
  {
   "cell_type": "markdown",
   "metadata": {},
   "source": [
    "## 1. Packaging Data\n",
    "###        a. Goodreads"
   ]
  },
  {
   "cell_type": "code",
   "execution_count": 187,
   "metadata": {},
   "outputs": [],
   "source": [
    "# Import Python wrapper for Goodreads API\n",
    "import requests\n",
    "import rauth\n",
    "import xmltodict\n",
    "import pickle\n",
    "import os\n",
    "from goodreads import client"
   ]
  },
  {
   "cell_type": "code",
   "execution_count": 188,
   "metadata": {},
   "outputs": [],
   "source": [
    "#Create a reuseable file with Key and Secret and save it to working directory\n",
    "devkey_fn  = 'APIkey&secret.pkl'\n",
    "if not os.path.exists(devkey_fn):\n",
    "    Goodreads = {}\n",
    "    Goodreads['key'] = 'DeveloperKey'\n",
    "    Goodreads['secret'] ='DeveloperSecret'       \n",
    "    \n",
    "    with open(devkey_fn, 'wb') as f:\n",
    "        pickle.dump(Goodreads, f)\n",
    "else:\n",
    "    Goodreads = pickle.load(open(devkey_fn, 'rb'))"
   ]
  },
  {
   "cell_type": "code",
   "execution_count": 189,
   "metadata": {},
   "outputs": [],
   "source": [
    "#Initialize API\n",
    "gc = client.GoodreadsClient(Goodreads['key'], Goodreads['secret'])"
   ]
  },
  {
   "cell_type": "code",
   "execution_count": 211,
   "metadata": {
    "scrolled": true
   },
   "outputs": [
    {
     "name": "stdout",
     "output_type": "stream",
     "text": [
      "Dubliners : I would suggest this book if you are interested in reading James Joyce and want to ease your way into his work. Joyce is a difficult read but also extremely rewarding. This book of short stories is quite powerful.\n",
      "Purity of Blood (Adventures of Captain Alatriste, #2) : I read this book while traveling through Spain and it was a wonderful companion. Captain Alatriste is trying to rescue a girl held captive in a convent, where some priests are up to no good. <br /><br />\"Perez-Reverte is very good at evoking the atmosphere of a teeming corrupt and jaded Madrid in the last de...\n",
      "Surely You're Joking, Mr. Feynman!: Adventures of a Curious Character : This book was a pure delight. The subtitle \"Adventures of a Curious Character\" is spot-on. Feynman gave an amazingly human and honest view into his philosophy and take on life, thought a series of stories.<br /><br />One thing that struck me most deeply was his passion for learning new things. You would thin...\n",
      "Youth : J.M. Coetzee is an interesting writer. Apparently, he is a well-known South Africa author and I read this book to get a taste of his style. <br /><br />I found Youth to be rather depressing. The main character is a computer programmer who comes to London to escape 1950s South Africa. Totally alienated from f...\n",
      "The Three Musketeers (The D'Artagnan Romances, #1) : Man I wish I hadn't read this yet so I could enjoy it again.\n",
      "The Early Diary of Anaïs Nin, Vol. 4 (1927-1931) : Vol 4: <br />The early work of this author fascinates me. These are early diaries of Nin--before she met Henry Miller. She's a young woman, recently married to an investment banker in Paris (Hugh), and the daughter of a famous concert pianist. Although her diaries are dated from 1927 to 1931, one would...\n",
      "The Great Gatsby : I read this classic twice in high school. Its hard to like books you read in high school, but this one stood out - couldn't tell you why anymore :)\n",
      "Angle of Repose : My aunt recommdended this to me ages ago - and now that I see two other friends like it, I should read it..\n",
      "The Debutante Divorcee : I am embarassed to say that I enjoyed this book. It was kind of cute in a spoiled-princess sort of way. Good mindless read for a vacation.\n",
      "One Hundred Years of Solitude : This book may as well have been called One Hundred Years of Inbreeding And Human Drama. It was basically a story about a small town where the gene pool is so small that everyone marries their relations, and it seems like life spirals more and more downward and out of control over 100 years. I rea...\n",
      "The BFG : The Big Freaking Giant! I loved this book growing up. Roald Dahl is a genius!\n",
      "The Witches : The greatest. I used to wonder if any of my teachers were witches. Except they all seemed to be glove free.\n",
      "The Sex Lives of Cannibals: Adrift in the Equatorial Pacific : I picked it up for the title- the anthropologist in me! It was funny, a great story about moms and daughters in a place far away, made to feel next door. My roots are showing...\n",
      "The Read-Aloud Handbook : I LOVE to give this book to new moms at baby showers!!\n",
      "The Working Poor: Invisible in America : A must read for those who say to the bums on the corner with signs- get a job! It doesn't quite work that way, now, does it?\n"
     ]
    }
   ],
   "source": [
    "#Create 2 dicts: review info & book info\n",
    "#CURRENTLY:\n",
    "#Unfortunately, the Goodreads API returns truncated reviews, so the plan will need to be put on hold for the near future. If any changes occur, I will be back to \n",
    "#finish the sentiment analysis. Note the truncated reviews below, from the API. Additionally, the API has a 1 second delay between each call and since there are \n",
    "#two calls per loop(book & review), it could take over 30 hours to finish!\n",
    "review_dict = {}\n",
    "book_dict = {}\n",
    "for x in range(2200,2230):\n",
    "    try:\n",
    "        review = gc.review(x)\n",
    "        if review.body:\n",
    "            print (review.book['title'] + ' : ' + str(review.body))\n",
    "        book_id = int(review.book['id']['#text'])\n",
    "        if book_id not in book_dict:\n",
    "            if (int(review.book['text_reviews_count']['#text']) > 10):\n",
    "                if (len(str(review.body)) > 12):\n",
    "                    book = gc.book(book_id)\n",
    "                    #if 'fantasy' in str(book.popular_shelves[:10]):\n",
    "                    book_dict[book_id] = []\n",
    "                    review_dict[book_id] = []\n",
    "                        #Add all book info to book_dict\n",
    "                    book_dict[book_id].append((str(book.title), int(book.average_rating)))\n",
    "        #Add review info to review_dict, with book id to match it to other dict\n",
    "        if (len(str(review.body)) > 3):\n",
    "            review_dict[book_id].append((str(review.body), int(review.rating)))\n",
    "    except:\n",
    "        continue"
   ]
  }
 ],
 "metadata": {
  "kernelspec": {
   "display_name": "Python 3",
   "language": "python",
   "name": "python3"
  }
 },
 "nbformat": 4,
 "nbformat_minor": 2
}
